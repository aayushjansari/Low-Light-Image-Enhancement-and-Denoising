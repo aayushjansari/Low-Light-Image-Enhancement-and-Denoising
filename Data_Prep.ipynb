{
 "cells": [
  {
   "cell_type": "code",
   "execution_count": 2,
   "id": "34a71a6f-be18-48da-88ce-37f31f21668c",
   "metadata": {},
   "outputs": [
    {
     "name": "stdout",
     "output_type": "stream",
     "text": [
      "Renamed 30.jpg to NOISY_1.jpg\n",
      "Renamed 31.jpg to NOISY_2.jpg\n",
      "Renamed 53.jpg to NOISY_3.jpg\n",
      "Renamed 70.jpg to NOISY_4.jpg\n",
      "Renamed 72.jpg to NOISY_5.jpg\n",
      "Renamed 74.jpg to NOISY_6.jpg\n",
      "Renamed 75.jpg to NOISY_7.jpg\n",
      "Renamed 77.jpg to NOISY_8.jpg\n",
      "Renamed 79.jpg to NOISY_9.jpg\n",
      "Renamed 81.jpg to NOISY_10.jpg\n"
     ]
    }
   ],
   "source": [
    "import os\n",
    "from glob import glob\n",
    "\n",
    "def rename_images(directory_path, output_directory):\n",
    "    # Check if output directory exists, create if not\n",
    "    if not os.path.exists(output_directory):\n",
    "        os.makedirs(output_directory)\n",
    "\n",
    "    # Get list of all image files\n",
    "    image_files = sorted(glob(os.path.join(directory_path, \"*.jpg\")) + \n",
    "                         glob(os.path.join(directory_path, \"*.jpeg\")) + \n",
    "                         glob(os.path.join(directory_path, \"*.png\")))\n",
    "\n",
    "    # Process each image\n",
    "    for idx, image_path in enumerate(image_files, start=1):\n",
    "        extension = os.path.splitext(image_path)[1]\n",
    "        new_name = f\"NOISY_{idx}{extension}\"\n",
    "        output_path = os.path.join(output_directory, new_name)\n",
    "        os.rename(image_path, output_path)\n",
    "        print(f\"Renamed {os.path.basename(image_path)} to {new_name}\")\n",
    "\n",
    "if __name__ == \"__main__\":\n",
    "    # Specify the path to the directory containing images and where to save them\n",
    "    directory_path = 'test'\n",
    "    output_directory = 'test'\n",
    "\n",
    "    rename_images(directory_path, output_directory)\n"
   ]
  },
  {
   "cell_type": "code",
   "execution_count": 1,
   "id": "427ec801-628b-48a1-9680-ce56e1aabe53",
   "metadata": {},
   "outputs": [
    {
     "name": "stdout",
     "output_type": "stream",
     "text": [
      "Processed 30.jpg with increased brightness\n",
      "Processed 31.jpg with increased brightness\n",
      "Processed 53.jpg with increased brightness\n",
      "Processed 70.jpg with increased brightness\n",
      "Processed 72.jpg with increased brightness\n",
      "Processed 74.jpg with increased brightness\n",
      "Processed 75.jpg with increased brightness\n",
      "Processed 77.jpg with increased brightness\n",
      "Processed 79.jpg with increased brightness\n",
      "Processed 81.jpg with increased brightness\n"
     ]
    }
   ],
   "source": [
    "import os\n",
    "from PIL import Image, ImageEnhance\n",
    "from glob import glob\n",
    "#factor = 2 to increase by 100%\n",
    "#factor = 0.5 to decrease by 100%\n",
    "def increase_brightness(image_path, factor=0.2):\n",
    "    with Image.open(image_path) as img:\n",
    "        # Increase brightness\n",
    "        enhancer = ImageEnhance.Brightness(img)\n",
    "        img_brightened = enhancer.enhance(factor)\n",
    "        return img_brightened\n",
    "\n",
    "def process_image(image_path, output_path, brightness_factor=0.2):\n",
    "    # Increase the brightness of the image\n",
    "    img_brightened = increase_brightness(image_path, brightness_factor)\n",
    "    \n",
    "    # Save or show the image\n",
    "    img_brightened.save(output_path)\n",
    "\n",
    "def process_directory(directory_path, output_directory, brightness_factor=0.2):\n",
    "    # Check if output directory exists, create if not\n",
    "    if not os.path.exists(output_directory):\n",
    "        os.makedirs(output_directory)\n",
    "\n",
    "    # Get list of all image files\n",
    "    image_files = glob(os.path.join(directory_path, \"*.jpg\")) + \\\n",
    "                  glob(os.path.join(directory_path, \"*.jpeg\")) + \\\n",
    "                  glob(os.path.join(directory_path, \"*.png\"))\n",
    "\n",
    "    # Process each image\n",
    "    for image_path in image_files:\n",
    "        file_name = os.path.basename(image_path)\n",
    "        output_path = os.path.join(output_directory, file_name)\n",
    "        process_image(image_path, output_path, brightness_factor)\n",
    "        print(f\"Processed {file_name} with increased brightness\")\n",
    "\n",
    "if __name__ == \"__main__\":\n",
    "    # Specify the path to the directory containing images and where to save them\n",
    "    directory_path = 'test'\n",
    "    output_directory = 'test_low'\n",
    "    brightness_factor = 0.2  # Increase to make the images brighter\n",
    "\n",
    "    process_directory(directory_path, output_directory, brightness_factor)\n"
   ]
  },
  {
   "cell_type": "code",
   "execution_count": 10,
   "id": "bbb50e5b-ec56-4fe1-9507-100cd9561a39",
   "metadata": {},
   "outputs": [
    {
     "ename": "FileNotFoundError",
     "evalue": "[WinError 3] The system cannot find the path specified: 'SIDD_custom_test'",
     "output_type": "error",
     "traceback": [
      "\u001b[1;31m---------------------------------------------------------------------------\u001b[0m",
      "\u001b[1;31mFileNotFoundError\u001b[0m                         Traceback (most recent call last)",
      "Cell \u001b[1;32mIn[10], line 34\u001b[0m\n\u001b[0;32m     32\u001b[0m \u001b[38;5;28;01mif\u001b[39;00m \u001b[38;5;18m__name__\u001b[39m \u001b[38;5;241m==\u001b[39m \u001b[38;5;124m\"\u001b[39m\u001b[38;5;124m__main__\u001b[39m\u001b[38;5;124m\"\u001b[39m:\n\u001b[0;32m     33\u001b[0m     folder_path \u001b[38;5;241m=\u001b[39m \u001b[38;5;124m\"\u001b[39m\u001b[38;5;124mSIDD_custom_test\u001b[39m\u001b[38;5;124m\"\u001b[39m\n\u001b[1;32m---> 34\u001b[0m     \u001b[43mconvert_jpg_to_png\u001b[49m\u001b[43m(\u001b[49m\u001b[43mfolder_path\u001b[49m\u001b[43m)\u001b[49m\n",
      "Cell \u001b[1;32mIn[10], line 12\u001b[0m, in \u001b[0;36mconvert_jpg_to_png\u001b[1;34m(folder_path)\u001b[0m\n\u001b[0;32m      5\u001b[0m \u001b[38;5;250m\u001b[39m\u001b[38;5;124;03m\"\"\"\u001b[39;00m\n\u001b[0;32m      6\u001b[0m \u001b[38;5;124;03mConvert all JPG files to PNG format in the specified folder.\u001b[39;00m\n\u001b[0;32m      7\u001b[0m \n\u001b[0;32m      8\u001b[0m \u001b[38;5;124;03mArgs:\u001b[39;00m\n\u001b[0;32m      9\u001b[0m \u001b[38;5;124;03mfolder_path (str): The path to the folder where the JPG files are located.\u001b[39;00m\n\u001b[0;32m     10\u001b[0m \u001b[38;5;124;03m\"\"\"\u001b[39;00m\n\u001b[0;32m     11\u001b[0m \u001b[38;5;66;03m# List files in the specified directory\u001b[39;00m\n\u001b[1;32m---> 12\u001b[0m files \u001b[38;5;241m=\u001b[39m \u001b[43mos\u001b[49m\u001b[38;5;241;43m.\u001b[39;49m\u001b[43mlistdir\u001b[49m\u001b[43m(\u001b[49m\u001b[43mfolder_path\u001b[49m\u001b[43m)\u001b[49m\n\u001b[0;32m     13\u001b[0m converted_count \u001b[38;5;241m=\u001b[39m \u001b[38;5;241m0\u001b[39m\n\u001b[0;32m     15\u001b[0m \u001b[38;5;28;01mfor\u001b[39;00m file \u001b[38;5;129;01min\u001b[39;00m files:\n",
      "\u001b[1;31mFileNotFoundError\u001b[0m: [WinError 3] The system cannot find the path specified: 'SIDD_custom_test'"
     ]
    }
   ],
   "source": [
    "import os\n",
    "from PIL import Image\n",
    "\n",
    "def convert_jpg_to_png(folder_path):\n",
    "    \"\"\"\n",
    "    Convert all JPG files to PNG format in the specified folder.\n",
    "\n",
    "    Args:\n",
    "    folder_path (str): The path to the folder where the JPG files are located.\n",
    "    \"\"\"\n",
    "    # List files in the specified directory\n",
    "    files = os.listdir(folder_path)\n",
    "    converted_count = 0\n",
    "\n",
    "    for file in files:\n",
    "        if file.lower().endswith(\".jpg\"):\n",
    "            file_path = os.path.join(folder_path, file)\n",
    "            try:\n",
    "                # Open the image file\n",
    "                with Image.open(file_path) as img:\n",
    "                    # Create a PNG file path by replacing the JPG extension\n",
    "                    png_path = file_path.rsplit('.', 1)[0] + '.png'\n",
    "                    # Save the image as a PNG file\n",
    "                    img.save(png_path, \"PNG\")\n",
    "                    print(f\"Converted {file_path} to {png_path}\")\n",
    "                    converted_count += 1\n",
    "            except Exception as e:\n",
    "                print(f\"Failed to convert {file_path}: {e}\")\n",
    "\n",
    "    print(f\"Total converted images: {converted_count}\")\n",
    "\n",
    "if __name__ == \"__main__\":\n",
    "    folder_path = \"SIDD_custom_test\"\n",
    "    convert_jpg_to_png(folder_path)\n"
   ]
  }
 ],
 "metadata": {
  "kernelspec": {
   "display_name": "ipcv",
   "language": "python",
   "name": "ipcv"
  },
  "language_info": {
   "codemirror_mode": {
    "name": "ipython",
    "version": 3
   },
   "file_extension": ".py",
   "mimetype": "text/x-python",
   "name": "python",
   "nbconvert_exporter": "python",
   "pygments_lexer": "ipython3",
   "version": "3.11.5"
  }
 },
 "nbformat": 4,
 "nbformat_minor": 5
}
